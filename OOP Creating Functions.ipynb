{
 "cells": [
  {
   "cell_type": "markdown",
   "id": "e3a7901f",
   "metadata": {},
   "source": [
    "# OOP: Creating Objects, Attributes & Methods __init__"
   ]
  },
  {
   "cell_type": "code",
   "execution_count": 31,
   "id": "89c8da30",
   "metadata": {
    "scrolled": false
   },
   "outputs": [
    {
     "name": "stdout",
     "output_type": "stream",
     "text": [
      "The oldest cat is 49 years old.\n"
     ]
    }
   ],
   "source": [
    "#OOP everything in pyhton is an object\n",
    "#OOP = Class -> Instanciate -> Instances\n",
    "class Cat:\n",
    "    # Class Object Attribute\n",
    "    species = 'Mammalia'\n",
    "    def __init__(self, name, age):\n",
    "        self.name = name #attribute\n",
    "        self.age = age   #attribute\n",
    "    \n",
    "Skar = Cat(\"Skar\", 27)\n",
    "Simba = Cat(\"Simba\", 26)\n",
    "Mufasa = Cat(\"Mufasa\", 49)\n",
    "        \n",
    "def show_oldest(*args):\n",
    "    return max(args)\n",
    "print(f'The oldest cat is {show_oldest(Skar.age, Simba.age, Mufasa.age)} years old.')"
   ]
  },
  {
   "cell_type": "markdown",
   "id": "a2b9da33",
   "metadata": {},
   "source": [
    "# Class Method & Static Method"
   ]
  },
  {
   "cell_type": "code",
   "execution_count": 45,
   "id": "edcb6a2e",
   "metadata": {
    "scrolled": true
   },
   "outputs": [
    {
     "name": "stdout",
     "output_type": "stream",
     "text": [
      "5\n"
     ]
    }
   ],
   "source": [
    "class PlayerCharacter:\n",
    "    membership = True\n",
    "    def __init__(self, name, age):\n",
    "        self.name = name\n",
    "        self.age = age\n",
    "    def shout(self):\n",
    "        print(f'my name is {self.name}')\n",
    "    @classmethod\n",
    "    def adding_things(cls, num1, num2):\n",
    "        return cls('Teddy', num1 + num2)\n",
    "\n",
    "player1 = PlayerCharacter.adding_things(2,3)\n",
    "print(player1.age)\n",
    "\n",
    "@staticmethod\n",
    "def adding_things2(num1, num2):\n",
    "    return num1 + num2"
   ]
  },
  {
   "cell_type": "markdown",
   "id": "f647cd78",
   "metadata": {},
   "source": [
    "# Encapsulation"
   ]
  },
  {
   "cell_type": "code",
   "execution_count": 46,
   "id": "118de2b6",
   "metadata": {},
   "outputs": [],
   "source": [
    "# Encapsulation is the binding of data and functions that manipulate that data.\n"
   ]
  },
  {
   "cell_type": "markdown",
   "id": "d1e2d9b5",
   "metadata": {},
   "source": [
    "# Abstruction"
   ]
  },
  {
   "cell_type": "code",
   "execution_count": 47,
   "id": "d71e4390",
   "metadata": {},
   "outputs": [],
   "source": [
    "# Hiding of information or abstructing away information in giving access to what is only necessary.\n",
    "# You can make private variables in Java but in Python it is different.In Python you do _ 'underscore' before the variable. \n",
    "# __ 'double underscore' = Dunder Method -> have lots of different meaning in Python. You should not overwrite them. "
   ]
  },
  {
   "cell_type": "markdown",
   "id": "96a870a7",
   "metadata": {},
   "source": [
    "# Inheritance"
   ]
  },
  {
   "cell_type": "code",
   "execution_count": 48,
   "id": "1b428d8e",
   "metadata": {},
   "outputs": [],
   "source": [
    "# Allows new objects to take on the properties of existing objects. You can inherit classes. "
   ]
  },
  {
   "cell_type": "code",
   "execution_count": 55,
   "id": "bb9422f4",
   "metadata": {},
   "outputs": [
    {
     "name": "stdout",
     "output_type": "stream",
     "text": [
      "attacking with power of 50\n",
      "attacking with arrows: arrows left = 100\n"
     ]
    }
   ],
   "source": [
    "class User:\n",
    "    def sign_in(self):\n",
    "        print('logged in')\n",
    "\n",
    "class Wizard(User):\n",
    "    def __init__(self, name, power):\n",
    "        self.name = name\n",
    "        self.power = power\n",
    "        \n",
    "    def attack(self):\n",
    "        print(f'attacking with power of {self.power}')\n",
    "\n",
    "class Archer(User):\n",
    "    def __init__(self, name, num_arrows):\n",
    "        self.name = name\n",
    "        self.num_arrows = num_arrows\n",
    "    \n",
    "    def attack(self):\n",
    "        print(f'attacking with arrows: arrows left = {self.num_arrows}')\n",
    "\n",
    "wizard1 = Wizard('Merlin', 50)\n",
    "archer1 = Archer('Robin', 100)\n",
    "wizard1.attack()\n",
    "archer1.attack()"
   ]
  }
 ],
 "metadata": {
  "kernelspec": {
   "display_name": "Python 3 (ipykernel)",
   "language": "python",
   "name": "python3"
  },
  "language_info": {
   "codemirror_mode": {
    "name": "ipython",
    "version": 3
   },
   "file_extension": ".py",
   "mimetype": "text/x-python",
   "name": "python",
   "nbconvert_exporter": "python",
   "pygments_lexer": "ipython3",
   "version": "3.9.13"
  }
 },
 "nbformat": 4,
 "nbformat_minor": 5
}
